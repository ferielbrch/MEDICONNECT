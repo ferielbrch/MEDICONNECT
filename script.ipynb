{
 "cells": [
  {
   "cell_type": "code",
   "execution_count": 1,
   "metadata": {},
   "outputs": [
    {
     "name": "stdout",
     "output_type": "stream",
     "text": [
      "c:\\Users\\DELL\\AppData\\Local\\Programs\\Python\\Python310\\python.exe\n"
     ]
    }
   ],
   "source": [
    "import sys\n",
    "print(sys.executable)"
   ]
  },
  {
   "cell_type": "code",
   "execution_count": 1,
   "metadata": {},
   "outputs": [],
   "source": [
    "from selenium import webdriver\n",
    "from selenium.webdriver.chrome.service import Service\n",
    "from selenium.webdriver.common.by import By\n",
    "from selenium.webdriver.common.keys import Keys\n",
    "from selenium.webdriver.support.ui import Select\n",
    "import csv\n",
    "import time\n",
    "from bs4 import BeautifulSoup\n",
    "import requests"
   ]
  },
  {
   "cell_type": "code",
   "execution_count": 2,
   "metadata": {},
   "outputs": [],
   "source": [
    "def chrome():\n",
    "    options = webdriver.ChromeOptions()\n",
    "    options.add_argument('--ignore-ssl-errors=yes')\n",
    "    options.add_argument('--ignore-certificate-errors')\n",
    "    driver = webdriver.Chrome(options=options)\n",
    "    driver.maximize_window()\n",
    "    return driver\n",
    "driver = chrome()\n",
    "urls = []\n",
    "\n",
    "website = 'https://annuairesante.ameli.fr/'\n",
    "path = 'C:/Users/DELL/Desktop/MediConnect/chrome-win64/chrome-win64/chrome.exe'\n",
    "#driver = webdriver.Chrome(path)\n",
    "driver.get(website)"
   ]
  },
  {
   "cell_type": "code",
   "execution_count": 3,
   "metadata": {},
   "outputs": [],
   "source": [
    "list_profession = driver.find_element(\"css selector\", \".popin-autocomplete-ps-professions.popin-autocomplete-enable\")\n",
    "list_profession.click()\n"
   ]
  },
  {
   "cell_type": "code",
   "execution_count": 4,
   "metadata": {},
   "outputs": [],
   "source": [
    "index = driver.find_element(\"id\" , \"index-0\").find_element(\"tag name\" , \"a\")\n",
    "index.click()"
   ]
  },
  {
   "cell_type": "code",
   "execution_count": 5,
   "metadata": {},
   "outputs": [],
   "source": [
    "submit = driver.find_element(\"name\" , \"submit_final\")\n",
    "submit.click()"
   ]
  },
  {
   "cell_type": "code",
   "execution_count": 6,
   "metadata": {},
   "outputs": [],
   "source": [
    "professionnels = driver.find_element(\"class name\" , \"liste-professionnel\")"
   ]
  },
  {
   "cell_type": "code",
   "execution_count": 7,
   "metadata": {},
   "outputs": [],
   "source": [
    "professionnel = driver.find_element(\"class name\" , \"item-professionnel\").find_element(\"class name\" , \"item-professionnel-inner\")"
   ]
  },
  {
   "cell_type": "code",
   "execution_count": 8,
   "metadata": {},
   "outputs": [],
   "source": [
    "# extract each doctor id \n",
    "num_spans = driver.find_elements(\"css selector\", \".item-professionnel .num\")\n",
    "#print(num_span.text)"
   ]
  },
  {
   "cell_type": "code",
   "execution_count": 9,
   "metadata": {},
   "outputs": [
    {
     "name": "stdout",
     "output_type": "stream",
     "text": [
      "1\n",
      "HANNOUN\n",
      "SYLVIE\n",
      "2\n",
      "BEGHI\n",
      "PASCAL\n",
      "3\n",
      "SAUVEGRAIN MASSIN\n",
      "ISABELLE\n",
      "4\n",
      "BOUCHOUCHA\n",
      "MARC\n",
      "5\n",
      "COHEN\n",
      "MICHELE\n",
      "6\n",
      "LECOLLIER\n",
      "DIDIER\n",
      "7\n",
      "LABORIE\n",
      "GILLES\n",
      "8\n",
      "VU\n",
      "GIANG\n",
      "9\n",
      "ATHLAN CHELLY\n",
      "FREDERIQUE\n",
      "10\n",
      "THOUMMANY\n",
      "FRANCE ARMELLE\n",
      "11\n",
      "BURGOS CANTOR\n",
      "JAVIER\n",
      "12\n",
      "LEBORGNE\n",
      "GIL\n",
      "13\n",
      "FRISON\n",
      "CHRISTIAN\n",
      "14\n",
      "BECK\n",
      "ANDRE\n",
      "15\n",
      "DELAS\n",
      "GEORGES\n",
      "16\n",
      "BOURLEAUD\n",
      "ALAIN\n",
      "17\n",
      "MILBERT\n",
      "BEATRICE\n",
      "18\n",
      "FAURE ANTONIETTI\n",
      "FREDERIQUE\n",
      "19\n",
      "MINIOU\n",
      "VERONIQUE\n",
      "20\n",
      "FORSANS\n",
      "ALAIN\n"
     ]
    }
   ],
   "source": [
    "for num_s in num_spans:\n",
    "    try:\n",
    "        parent_div = num_s.find_element(\"xpath\", \"./ancestor::div[@class='item-professionnel']\")\n",
    "        nom_pictos = parent_div.find_element(\"css selector\", \".nom_pictos h2 a\")\n",
    "        #print(nom_pictos.text)\n",
    "\n",
    "        last_name = nom_pictos.find_element(\"css selector\" , \"strong\").text\n",
    "        firstname = nom_pictos.text.replace(last_name, \"\").strip()\n",
    "\n",
    "        print(num_s.text)\n",
    "        print(last_name)\n",
    "        print(firstname)\n",
    "\n",
    "    except Exception as e:\n",
    "        print(\"Error processing:\", e)\n",
    "    \n"
   ]
  },
  {
   "cell_type": "code",
   "execution_count": 10,
   "metadata": {},
   "outputs": [],
   "source": [
    "elements = driver.find_elements(\"css selector\" , \"elements\")"
   ]
  },
  {
   "cell_type": "code",
   "execution_count": 15,
   "metadata": {},
   "outputs": [],
   "source": [
    "from time import sleep\n",
    "sleep(2)\n",
    "\n",
    "for element in elements:\n",
    "    try:\n",
    "        specialite = element.find_element(\"css selector\", \".item.left.specialite\")\n",
    "        print(specialite.text)\n",
    "\n",
    "        tel = element.find_element(\"css selector\" , \".item left tel\")\n",
    "        print(tel.text)\n",
    "\n",
    "        address = element.find_element(\"css selector\" , \".item left adresse\")\n",
    "        print(address.text)\n",
    "\n",
    "        sleep(1)\n",
    "        \n",
    "\n",
    "    except Exception as e:\n",
    "        print(\"Error processing:\", e)\n"
   ]
  },
  {
   "cell_type": "code",
   "execution_count": null,
   "metadata": {},
   "outputs": [],
   "source": [
    "for i in range(92):\n",
    "    index = driver.find_element(\"id\", \"index-{i}\")"
   ]
  },
  {
   "cell_type": "code",
   "execution_count": null,
   "metadata": {},
   "outputs": [],
   "source": [
    "#beautifulsoup\n",
    "with open(\"liste_des_medecins.csv\", \"w\", newline=\"\", encoding=\"utf-8\") as file:\n",
    "    writer = csv.writer(file, quotechar='\"', quoting= csv.QUOTE_MINIMAL)\n",
    "    writer.writerow([\"Nom\", \"Prénom\", \"Spécialité\", \"Clinique\",\"Rue\", \"Ville\", \"Code Postal\", \"Numéro de téléphone\", \"Email\"])\n",
    "\n",
    "    \n",
    "    for page in range(1,21): \n",
    "        url = \"https://annuairesante.ameli.fr/professionnels-de-sante/recherche/liste-resultats-page-{page}-par_page-20-tri-aleatoire.html\"\n",
    "        print(f\"Scraping: {url}\")\n",
    "\n",
    "        response = requests.get(url, headers=headers)\n",
    "        soup = BeautifulSoup(response.text,\"html.parser\")\n",
    "\n",
    "        if response.status_code != 200:\n",
    "            print(f\"❌ Error {response.status_code}: Stopping scrape.\")\n",
    "            break\n",
    "        \n",
    "        professionals = soup.find_all('div', class_=\"liste-professionnel\")\n",
    "        print(professionals)\n",
    "            \n",
    "#professionals = soup.select(\".liste-professionnel .item-professionnel\")\n",
    "        print(\"Total professionals found:\", len(professionals))\n",
    "        for pro in professionals:\n",
    "            print(pro.text.strip())  # Print the content of each professional\n",
    "        if not professionals:\n",
    "            print(f\"No professionals found on page {page}. Continuing...\")\n",
    "            break\n",
    "\n",
    "        for professional in professionals:\n",
    "            inner_pro = professional.find(\"div\", class_=\"item-professionnel-inner\")\n",
    "            if not inner_pro:\n",
    "                continue \n",
    "\n",
    "            nomc = inner_pro.find(\"h2\", class_=\"ignore-css\")\n",
    "            if nomc:\n",
    "                nom = nomc.find(\"strong\").text.strip() if nomc.find(\"strong\") else \"NA\"\n",
    "                prenom = nomc.get_text(strip=True).replace(nom, \"\").strip()\n",
    "            else:\n",
    "                    nom, prenom = \"NA\", \"NA\"\n",
    "\n",
    "            elements = inner_pro.find(\"div\", class_=\"elements\")\n",
    "            if not elements:\n",
    "                continue\n",
    "\n",
    "            specialite = elements.find(\"div\", class_=\"item left specialite\")\n",
    "            specialite = specialite.get_text(strip=True) if specialite else \"NA\"\n",
    "\n",
    "            address = elements.find(\"div\", class_=\"item left adresse\")\n",
    "            if address:\n",
    "                full_address = address.get_text(separator=\"|\", strip=True).split(\"|\") \n",
    "\n",
    "                if len(full_address) == 3:\n",
    "                    clinic = full_address[0]\n",
    "                    street = full_address[1]\n",
    "                    city_postal = full_address[2]\n",
    "                elif len(full_address) == 2:\n",
    "                    clinic = \"NA\"\n",
    "                    street = full_address[0]\n",
    "                    city_postal = full_address[1]\n",
    "                else:\n",
    "                    clinic, street, city_postal = \"NA\"\n",
    "\n",
    "                # Separate postal code and city\n",
    "                code_postal, city = city_postal.split(\" \", 1) if \" \" in city_postal else (\"N/A\", city_postal)\n",
    "            else:\n",
    "                clinic, street, city, code_postal = \"N/A\", \"N/A\", \"N/A\", \"N/A\"\n",
    "\n",
    "            tel_div = elements.find(\"div\", class_=\"item left tel\")\n",
    "            tel = tel_div.get_text(strip=True) if tel_div else \"NA\"\n",
    "\n",
    "            email_div = elements.find(\"div\", class_=\"item left email\")\n",
    "            email = email_div.get_text(strip=True) if email_div else \"NA\"\n",
    "                    \n",
    "            writer.writerow([nom, prenom, specialite, clinic, street, city, code_postal, tel, email])\n",
    "\n",
    "        #page += 1\n",
    "\n",
    "        print(\"✅ Scraping completed. Data saved to 'liste_des_medecins.csv'.\")\n",
    "\n",
    "            \n",
    "        "
   ]
  },
  {
   "cell_type": "code",
   "execution_count": 9,
   "metadata": {},
   "outputs": [
    {
     "name": "stdout",
     "output_type": "stream",
     "text": [
      "<html>\n",
      " <head>\n",
      "  <title>\n",
      "   Request Rejected\n",
      "  </title>\n",
      " </head>\n",
      " <body>\n",
      "  The requested URL was rejected. Please consult with your administrator.\n",
      "  <br/>\n",
      "  <br/>\n",
      "  Your support ID is: 8402854357907416372\n",
      "  <br/>\n",
      "  <br/>\n",
      "  <a href=\"javascript:history.back();\">\n",
      "   [Go Back]\n",
      "  </a>\n",
      " </body>\n",
      "</html>\n",
      "\n"
     ]
    }
   ],
   "source": [
    "print(soup.prettify())  # See if the HTML is correct\n"
   ]
  }
 ],
 "metadata": {
  "kernelspec": {
   "display_name": "Python 3",
   "language": "python",
   "name": "python3"
  },
  "language_info": {
   "codemirror_mode": {
    "name": "ipython",
    "version": 3
   },
   "file_extension": ".py",
   "mimetype": "text/x-python",
   "name": "python",
   "nbconvert_exporter": "python",
   "pygments_lexer": "ipython3",
   "version": "3.10.11"
  }
 },
 "nbformat": 4,
 "nbformat_minor": 2
}
